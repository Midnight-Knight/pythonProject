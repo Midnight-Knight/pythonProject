{
 "cells": [
  {
   "cell_type": "code",
   "execution_count": 5,
   "metadata": {},
   "outputs": [],
   "source": [
    "import csv\n",
    "import datetime\n",
    "\n",
    "\n",
    "def parse_time(text):\n",
    "    return datetime.datetime.strptime(text, '%Y-%m-%d %H:%M:%S.%f')\n",
    "\n",
    "\n",
    "def load_csv(filename):\n",
    "    with open(filename, encoding='utf8') as f:\n",
    "        return list(csv.reader(f, delimiter=','))\n",
    "\n",
    "\n",
    "mesages = load_csv('./messages.csv')\n",
    "\n",
    "checks = load_csv('./checks.csv')\n",
    "\n",
    "statuses = load_csv('./statuses.csv')"
   ]
  },
  {
   "cell_type": "code",
   "execution_count": null,
   "metadata": {},
   "outputs": [],
   "source": []
  }
 ],
 "metadata": {
  "kernelspec": {
   "display_name": "Python 3 (ipykernel)",
   "language": "python",
   "name": "python3"
  },
  "language_info": {
   "codemirror_mode": {
    "name": "ipython",
    "version": 3
   },
   "file_extension": ".py",
   "mimetype": "text/x-python",
   "name": "python",
   "nbconvert_exporter": "python",
   "pygments_lexer": "ipython3",
   "version": "3.11.2"
  }
 },
 "nbformat": 4,
 "nbformat_minor": 1
}

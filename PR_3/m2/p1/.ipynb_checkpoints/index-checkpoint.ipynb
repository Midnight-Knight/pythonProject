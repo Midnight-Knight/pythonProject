{
 "cells": [
  {
   "cell_type": "code",
   "execution_count": 7,
   "metadata": {},
   "outputs": [
    {
     "data": {
      "image/png": "[encoded data removed]",
      "text/plain": [
       "<Figure size 640x480 with 1 Axes>"
      ]
     },
     "metadata": {},
     "output_type": "display_data"
    }
   ],
   "source": [
    "import matplotlib.pyplot as plt\n",
    "import random\n",
    "from matplotlib.patches import Rectangle\n",
    "\n",
    "fig, ax = plt.subplots()\n",
    "\n",
    "grid = []\n",
    "square = []\n",
    "\n",
    "for i in range(15):\n",
    "    colorR = random.randint(0,1)\n",
    "    if colorR == 0:\n",
    "        grid.append('b')\n",
    "    elif colorR == 1:\n",
    "        grid.append('w')\n",
    "\n",
    "x = 0\n",
    "y = 0\n",
    "for i in range(5):\n",
    "    square.append(Rectangle((x,y), 0.2, 0.2, color = grid[i]))\n",
    "    y = y + 0.2\n",
    "\n",
    "x = 0.2\n",
    "y = 0\n",
    "for i in range(5):\n",
    "    square.append(Rectangle((x,y), 0.2, 0.2, color = grid[5+i]))\n",
    "    y = y + 0.2\n",
    "\n",
    "x = 0.4\n",
    "y = 0\n",
    "for i in range(5):\n",
    "    square.append(Rectangle((x,y), 0.2, 0.2, color = grid[10+i]))\n",
    "    y = y + 0.2\n",
    "\n",
    "x = 0.6\n",
    "y = 0\n",
    "for i in range(5):\n",
    "    square.append(Rectangle((x,y), 0.2, 0.2, color = grid[5+i]))\n",
    "    y = y + 0.2\n",
    "\n",
    "x = 0.8\n",
    "y = 0\n",
    "for i in range(5):\n",
    "    square.append(Rectangle((x,y), 0.2, 0.2, color = grid[i]))\n",
    "    y = y + 0.2\n",
    "\n",
    "for i in range(25):\n",
    "    ax.add_patch(square[i])\n",
    "\n",
    "ax.set_xlim([0, 1])\n",
    "ax.set_ylim([0, 1])\n",
    "ax.set_aspect('equal')\n",
    "\n",
    "plt.show()"
   ]
  },
  {
   "cell_type": "code",
   "execution_count": null,
   "metadata": {
    "pycharm": {
     "is_executing": true
    }
   },
   "outputs": [],
   "source": []
  },
  {
   "cell_type": "code",
   "execution_count": null,
   "metadata": {},
   "outputs": [],
   "source": []
  }
 ],
 "metadata": {
  "kernelspec": {
   "display_name": "Python 3 (ipykernel)",
   "language": "python",
   "name": "python3"
  },
  "language_info": {
   "codemirror_mode": {
    "name": "ipython",
    "version": 3
   },
   "file_extension": ".py",
   "mimetype": "text/x-python",
   "name": "python",
   "nbconvert_exporter": "python",
   "pygments_lexer": "ipython3",
   "version": "3.11.2"
  }
 },
 "nbformat": 4,
 "nbformat_minor": 1
}
